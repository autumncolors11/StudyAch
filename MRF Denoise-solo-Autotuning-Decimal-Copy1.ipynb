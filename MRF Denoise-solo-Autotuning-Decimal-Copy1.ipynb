{
 "cells": [
  {
   "cell_type": "code",
   "execution_count": 1,
   "metadata": {},
   "outputs": [],
   "source": [
    "import matplotlib.pyplot as plt\n",
    "from PIL import Image\n",
    "import numpy as np\n",
    "from skimage.filters import threshold_otsu\n",
    "import itertools\n",
    "import pandas as pd\n",
    "import seaborn as sns\n",
    "from decimal import Decimal\n",
    "import multiprocessing.dummy\n",
    "from numba import jit"
   ]
  },
  {
   "cell_type": "code",
   "execution_count": 2,
   "metadata": {},
   "outputs": [
    {
     "data": {
      "text/plain": [
       "<matplotlib.image.AxesImage at 0x23e45cce5c0>"
      ]
     },
     "execution_count": 2,
     "metadata": {},
     "output_type": "execute_result"
    },
    {
     "data": {
      "image/png": "[encoded data removed]",
      "text/plain": [
       "<Figure size 432x288 with 1 Axes>"
      ]
     },
     "metadata": {},
     "output_type": "display_data"
    }
   ],
   "source": [
    "#正解データの読み込み\n",
    "t_img  = np.array(Image.open(\"tri_1s.png\").convert(\"L\"))\n",
    "#t_img =  (t_img - np.mean(t_img))/np.std(t_img)\n",
    "\n",
    "#正解データの二値化\n",
    "t_img = t_img > threshold_otsu(t_img).astype(np.int)\n",
    "t_img =  (t_img - np.mean(t_img))/np.std(t_img)\n",
    "\n",
    "#正解データの表示\n",
    "plt.tick_params(labelbottom=False, labelleft=False, labelright=False, labeltop=False)\n",
    "plt.imshow(t_img, cmap = 'gray')"
   ]
  },
  {
   "cell_type": "code",
   "execution_count": 3,
   "metadata": {},
   "outputs": [
    {
     "name": "stdout",
     "output_type": "stream",
     "text": [
      "0.6218291496128691\n"
     ]
    }
   ],
   "source": [
    "#『1枚時のDifferenceを1に規格化するため，1枚時のDifferenceを求める』\n",
    "\n",
    "#積算枚数1枚時の画像の読み込み\n",
    "first_im = np.array(Image.open(\"tri_noise1.png\").convert(\"L\"))\n",
    "#first_im =  (first_im - np.mean(first_im))/np.std(first_im)\n",
    "\n",
    "#積算枚数1枚時の画像の二値化と標準化\n",
    "first_im = first_im > threshold_otsu(first_im).astype(np.int)\n",
    "first_im =  (first_im - np.mean(first_im))/np.std(first_im)\n",
    "\n",
    "#正解画像との差分を各画素ごとに取り，絶対値表示したのち平均化\n",
    "first_dif = (t_img - first_im)\n",
    "first_dif = np.abs(first_dif)\n",
    "first_dif = np.sum(first_dif) / np.size(first_dif)\n",
    "print(first_dif)"
   ]
  },
  {
   "cell_type": "code",
   "execution_count": 4,
   "metadata": {},
   "outputs": [],
   "source": [
    "#以下マルコフ確率場および確率伝搬法を用いたノイズ除去の設定"
   ]
  },
  {
   "cell_type": "code",
   "execution_count": 5,
   "metadata": {},
   "outputs": [],
   "source": [
    "class MRF:\n",
    "    \n",
    "    def __init__(self):\n",
    "        self.nodes = [] #MRF上のノード\n",
    "        self.id = {} #ノードのID\n",
    "\n",
    "    #MRFにノードを追加する\n",
    "    \n",
    "    def addNode(self, id, node):\n",
    "        self.nodes.append(node)\n",
    "        self.id[id] = node\n",
    "\n",
    "    #IDに応じたノードを返す\n",
    "    \n",
    "    def getNode(self, id):\n",
    "        return self.id[id]\n",
    "\n",
    "    #全部のノードを返す\n",
    "    \n",
    "    def getNodes(self):\n",
    "        return self.nodes\n",
    "\n",
    "    #確率伝播を開始する\n",
    "    \n",
    "    def beliefPropagation(self, iter=5):\n",
    "\n",
    "        #各ノードについて隣接ノードからのメッセージを初期化\n",
    "        for node in self.nodes:\n",
    "            node.initializeMessage()\n",
    "\n",
    "        #一定回数繰り返す\n",
    "        for t in range(iter):\n",
    "            print(t)\n",
    "\n",
    "            #各ノードについて，そのノードに隣接するノードへメッセージを送信する\n",
    "            for node in self.nodes:\n",
    "                for neighbor in node.getNeighbor():\n",
    "                    neighbor.message[node] = node.sendMessage(neighbor)\n",
    "\n",
    "        #各ノードについて周辺分布を計算する\n",
    "        for node in self.nodes:\n",
    "            node.marginal()"
   ]
  },
  {
   "cell_type": "code",
   "execution_count": 6,
   "metadata": {
    "scrolled": false
   },
   "outputs": [],
   "source": [
    "class Node(object):\n",
    "    \n",
    "    def __init__(self, id):\n",
    "        self.id = id\n",
    "        self.neighbor = []\n",
    "        self.message = {}\n",
    "        self.prob = None\n",
    "\n",
    "        #エネルギー関数用パラメータ\n",
    "        self.alpha = a\n",
    "        self.beta = b\n",
    "        \n",
    "    \n",
    "    def addNeighbor(self, node):\n",
    "        self.neighbor.append(node)\n",
    "        \n",
    "    \n",
    "    def getNeighbor(self):\n",
    "        return self.neighbor\n",
    "\n",
    "    #隣接ノードからのメッセージを初期化\n",
    "    \n",
    "    def initializeMessage(self):\n",
    "        for neighbor in self.neighbor:\n",
    "            self.message[neighbor] = np.array([Decimal(\"1.0\"),Decimal(\"1.0\")])\n",
    "\n",
    "    #全てのメッセージを統合\n",
    "    #probは周辺分布\n",
    "    \n",
    "    def marginal(self):\n",
    "        prob = Decimal(\"1.0\")\n",
    "\n",
    "        for message in self.message.values():\n",
    "            prob *= message\n",
    "\n",
    "        prob /= np.sum(prob)\n",
    "        self.prob = prob\n",
    "\n",
    "    #隣接ノードの状態を考慮した尤度を計算\n",
    "    \n",
    "    def sendMessage(self, target):\n",
    "        neighbor_message = Decimal(\"1.0\")\n",
    "        \n",
    "        for neighbor in self.message.keys():\n",
    "            if neighbor != target:\n",
    "                neighbor_message *= self.message[neighbor]\n",
    "\n",
    "        compatibility_0 = np.array([np.exp(-self.beta * np.abs(Decimal(0.0) - Decimal(0.0))), np.exp(-self.beta * np.abs(Decimal(0.0) - Decimal('1.0')))])\n",
    "        compatibility_1 = np.array([np.exp(-self.beta * np.abs(Decimal('1.0') - Decimal(0.0))), np.exp(-self.beta * np.abs(Decimal('1.0') - Decimal('1.0')))])\n",
    "\n",
    "        message = np.array([np.sum(neighbor_message * compatibility_0), np.sum(neighbor_message * compatibility_1)])\n",
    "        message /= np.sum(message)\n",
    "\n",
    "        return message\n",
    "\n",
    "    #観測値から計算する尤度\n",
    "    \n",
    "    def calcLikelihood(self, value):\n",
    "        likelihood = np.array([Decimal(0.0), Decimal(0.0)])\n",
    "\n",
    "        if value == 0:\n",
    "            likelihood[0] = np.exp(-1*self.alpha * Decimal(0))\n",
    "            likelihood[1] = np.exp(-1*self.alpha *  Decimal('1.0'))\n",
    "        else:\n",
    "            likelihood[0] = np.exp(-self.alpha * Decimal('1.0'))\n",
    "            likelihood[1] = np.exp(-self.alpha * Decimal(0))\n",
    "\n",
    "        self.message[self] = likelihood"
   ]
  },
  {
   "cell_type": "code",
   "execution_count": 7,
   "metadata": {},
   "outputs": [],
   "source": [
    "#各画素ごとにノードを作成し，隣接画素ノードとの接続を作成する\n",
    "\n",
    "def generateBeliefNetwork(image):\n",
    "    network = MRF()\n",
    "    height, width = image.shape\n",
    "\n",
    "    for i in range(height):\n",
    "        for j in range(width):\n",
    "            nodeID = width * i + j\n",
    "            node = Node(nodeID)\n",
    "            network.addNode(nodeID, node)\n",
    "\n",
    "    dy = [-1, 0, 0, 1]\n",
    "    dx = [0, -1, 1, 0]\n",
    "\n",
    "    for i in range(height):\n",
    "        for j in range(width):\n",
    "            node = network.getNode(width * i + j)\n",
    "\n",
    "            for k in range(4):\n",
    "                if i + dy[k] >= 0 and i + dy[k] < height and j + dx[k] >= 0 and j + dx[k] < width:\n",
    "                    neighbor = network.getNode(width * (i + dy[k]) + j + dx[k])\n",
    "                    node.addNeighbor(neighbor)\n",
    "\n",
    "    return network"
   ]
  },
  {
   "cell_type": "code",
   "execution_count": 8,
   "metadata": {},
   "outputs": [],
   "source": [
    "#以下マルコフ確率場および確率伝搬法を用いたノイズ除去の実行"
   ]
  },
  {
   "cell_type": "code",
   "execution_count": 9,
   "metadata": {},
   "outputs": [],
   "source": [
    "x = [] #ノイズ画像の信用度を示すパラメータαの値\n",
    "xx = []\n",
    "\n",
    "y = [] #隣接画素の相互作用の強さを示すパラメータβの値\n",
    "yy = []\n",
    "\n",
    "z = [] #Difference値\n",
    "zz = []\n",
    "\n",
    "r = []"
   ]
  },
  {
   "cell_type": "code",
   "execution_count": 10,
   "metadata": {},
   "outputs": [],
   "source": [
    "\n",
    "a=1 \n",
    "b=1 \n",
    "@jit\n",
    "def NoiseReduction():\n",
    "    #読み込み画像の配列化および標準化\n",
    "    img  = np.array(Image.open(\"tri_noise1.png\").convert(\"L\"))\n",
    "    im = img > threshold_otsu(img).astype(np.int)\n",
    "    for a in itertools.count(start=Decimal('1.6'), step=Decimal('0.1')):\n",
    "        r.clear()\n",
    "        for b in itertools.count(start=Decimal('1.6'), step=Decimal('0.1')):\n",
    "\n",
    "#MRF構築\n",
    "            network = generateBeliefNetwork(im)\n",
    "\n",
    "#観測値（画素値）から尤度を作成\n",
    "            for i in range(im.shape[0]):\n",
    "                for j in range(im.shape[1]):\n",
    "                    node = network.getNode(im.shape[1] * i + j)\n",
    "                    node.calcLikelihood(im[i,j])\n",
    "\n",
    "#確率伝播法を行う\n",
    "            network.beliefPropagation()\n",
    "\n",
    "#周辺分布は[0の確率,1の確率]の順番\n",
    "#もし1の確率が大きければoutputの画素値を1に変える\n",
    "            output = np.zeros(im.shape)\n",
    "\n",
    "            for i in range(output.shape[0]):\n",
    "                for j in range(output.shape[1]):\n",
    "                    node = network.getNode(output.shape[1] * i + j)\n",
    "                    prob = node.prob\n",
    "                    if prob[1] > prob[0]:\n",
    "                        output[i,j] = 1\n",
    "\n",
    "            plt.tick_params(labelbottom=False, labelleft=False, labelright=False, labeltop=False)\n",
    "            plt.imshow(output,cmap=\"gray\")\n",
    "            plt.show()\n",
    "        \n",
    "            out =  (output - np.mean(output))/np.std(output)\n",
    "            dif_cell = (out - t_img)\n",
    "            dif_cell = np.abs(dif_cell)\n",
    "            dif = np.sum(dif_cell) / np.size(dif_cell)\n",
    "            dif = dif / first_dif\n",
    "        \n",
    "            print(\"α =\" + str(a),\"β =\" + str(b))\n",
    "            print(\"Difference\")\n",
    "            print(dif)\n",
    "        \n",
    "            xx.append(a)\n",
    "            yy.append(b)\n",
    "            zz.append(dif)\n",
    "        \n",
    "            if len(y) < b:\n",
    "                y.append(b)\n",
    "            r.append(dif)\n",
    "        \n",
    "            if b > Decimal('2.5'):\n",
    "                break\n",
    "        x.append(a)\n",
    "        z.append(r.copy())\n",
    "        if a > Decimal('2.5'):\n",
    "            break\n",
    "        \n"
   ]
  },
  {
   "cell_type": "code",
   "execution_count": 11,
   "metadata": {},
   "outputs": [
    {
     "name": "stdout",
     "output_type": "stream",
     "text": [
      "0\n",
      "1\n",
      "2\n"
     ]
    },
    {
     "ename": "KeyboardInterrupt",
     "evalue": "",
     "output_type": "error",
     "traceback": [
      "\u001b[1;31m---------------------------------------------------------------------------\u001b[0m",
      "\u001b[1;31mKeyboardInterrupt\u001b[0m                         Traceback (most recent call last)",
      "\u001b[1;32m<ipython-input-11-78f7f0e46d27>\u001b[0m in \u001b[0;36m<module>\u001b[1;34m\u001b[0m\n\u001b[0;32m      1\u001b[0m \u001b[1;32mwith\u001b[0m \u001b[0mmultiprocessing\u001b[0m\u001b[1;33m.\u001b[0m\u001b[0mdummy\u001b[0m\u001b[1;33m.\u001b[0m\u001b[0mPool\u001b[0m\u001b[1;33m(\u001b[0m\u001b[0mmultiprocessing\u001b[0m\u001b[1;33m.\u001b[0m\u001b[0mcpu_count\u001b[0m\u001b[1;33m(\u001b[0m\u001b[1;33m)\u001b[0m\u001b[1;33m)\u001b[0m \u001b[1;32mas\u001b[0m \u001b[0mp\u001b[0m\u001b[1;33m:\u001b[0m\u001b[1;33m\u001b[0m\u001b[0m\n\u001b[1;32m----> 2\u001b[1;33m     \u001b[0mp\u001b[0m\u001b[1;33m.\u001b[0m\u001b[0mmap\u001b[0m\u001b[1;33m(\u001b[0m\u001b[0mNoiseReduction\u001b[0m\u001b[1;33m(\u001b[0m\u001b[1;33m)\u001b[0m\u001b[1;33m)\u001b[0m\u001b[1;33m\u001b[0m\u001b[0m\n\u001b[0m",
      "\u001b[1;32m<ipython-input-5-e608bfbab686>\u001b[0m in \u001b[0;36mbeliefPropagation\u001b[1;34m(self, iter)\u001b[0m\n\u001b[0;32m     36\u001b[0m             \u001b[1;32mfor\u001b[0m \u001b[0mnode\u001b[0m \u001b[1;32min\u001b[0m \u001b[0mself\u001b[0m\u001b[1;33m.\u001b[0m\u001b[0mnodes\u001b[0m\u001b[1;33m:\u001b[0m\u001b[1;33m\u001b[0m\u001b[0m\n\u001b[0;32m     37\u001b[0m                 \u001b[1;32mfor\u001b[0m \u001b[0mneighbor\u001b[0m \u001b[1;32min\u001b[0m \u001b[0mnode\u001b[0m\u001b[1;33m.\u001b[0m\u001b[0mgetNeighbor\u001b[0m\u001b[1;33m(\u001b[0m\u001b[1;33m)\u001b[0m\u001b[1;33m:\u001b[0m\u001b[1;33m\u001b[0m\u001b[0m\n\u001b[1;32m---> 38\u001b[1;33m                     \u001b[0mneighbor\u001b[0m\u001b[1;33m.\u001b[0m\u001b[0mmessage\u001b[0m\u001b[1;33m[\u001b[0m\u001b[0mnode\u001b[0m\u001b[1;33m]\u001b[0m \u001b[1;33m=\u001b[0m \u001b[0mnode\u001b[0m\u001b[1;33m.\u001b[0m\u001b[0msendMessage\u001b[0m\u001b[1;33m(\u001b[0m\u001b[0mneighbor\u001b[0m\u001b[1;33m)\u001b[0m\u001b[1;33m\u001b[0m\u001b[0m\n\u001b[0m\u001b[0;32m     39\u001b[0m \u001b[1;33m\u001b[0m\u001b[0m\n\u001b[0;32m     40\u001b[0m         \u001b[1;31m#各ノードについて周辺分布を計算する\u001b[0m\u001b[1;33m\u001b[0m\u001b[1;33m\u001b[0m\u001b[0m\n",
      "\u001b[1;32m<ipython-input-6-ddffeb0cba7e>\u001b[0m in \u001b[0;36msendMessage\u001b[1;34m(self, target)\u001b[0m\n\u001b[0;32m     46\u001b[0m                 \u001b[0mneighbor_message\u001b[0m \u001b[1;33m*=\u001b[0m \u001b[0mself\u001b[0m\u001b[1;33m.\u001b[0m\u001b[0mmessage\u001b[0m\u001b[1;33m[\u001b[0m\u001b[0mneighbor\u001b[0m\u001b[1;33m]\u001b[0m\u001b[1;33m\u001b[0m\u001b[0m\n\u001b[0;32m     47\u001b[0m \u001b[1;33m\u001b[0m\u001b[0m\n\u001b[1;32m---> 48\u001b[1;33m         \u001b[0mcompatibility_0\u001b[0m \u001b[1;33m=\u001b[0m \u001b[0mnp\u001b[0m\u001b[1;33m.\u001b[0m\u001b[0marray\u001b[0m\u001b[1;33m(\u001b[0m\u001b[1;33m[\u001b[0m\u001b[0mnp\u001b[0m\u001b[1;33m.\u001b[0m\u001b[0mexp\u001b[0m\u001b[1;33m(\u001b[0m\u001b[1;33m-\u001b[0m\u001b[0mself\u001b[0m\u001b[1;33m.\u001b[0m\u001b[0mbeta\u001b[0m \u001b[1;33m*\u001b[0m \u001b[0mnp\u001b[0m\u001b[1;33m.\u001b[0m\u001b[0mabs\u001b[0m\u001b[1;33m(\u001b[0m\u001b[0mDecimal\u001b[0m\u001b[1;33m(\u001b[0m\u001b[1;36m0.0\u001b[0m\u001b[1;33m)\u001b[0m \u001b[1;33m-\u001b[0m \u001b[0mDecimal\u001b[0m\u001b[1;33m(\u001b[0m\u001b[1;36m0.0\u001b[0m\u001b[1;33m)\u001b[0m\u001b[1;33m)\u001b[0m\u001b[1;33m)\u001b[0m\u001b[1;33m,\u001b[0m \u001b[0mnp\u001b[0m\u001b[1;33m.\u001b[0m\u001b[0mexp\u001b[0m\u001b[1;33m(\u001b[0m\u001b[1;33m-\u001b[0m\u001b[0mself\u001b[0m\u001b[1;33m.\u001b[0m\u001b[0mbeta\u001b[0m \u001b[1;33m*\u001b[0m \u001b[0mnp\u001b[0m\u001b[1;33m.\u001b[0m\u001b[0mabs\u001b[0m\u001b[1;33m(\u001b[0m\u001b[0mDecimal\u001b[0m\u001b[1;33m(\u001b[0m\u001b[1;36m0.0\u001b[0m\u001b[1;33m)\u001b[0m \u001b[1;33m-\u001b[0m \u001b[0mDecimal\u001b[0m\u001b[1;33m(\u001b[0m\u001b[1;34m'1.0'\u001b[0m\u001b[1;33m)\u001b[0m\u001b[1;33m)\u001b[0m\u001b[1;33m)\u001b[0m\u001b[1;33m]\u001b[0m\u001b[1;33m)\u001b[0m\u001b[1;33m\u001b[0m\u001b[0m\n\u001b[0m\u001b[0;32m     49\u001b[0m         \u001b[0mcompatibility_1\u001b[0m \u001b[1;33m=\u001b[0m \u001b[0mnp\u001b[0m\u001b[1;33m.\u001b[0m\u001b[0marray\u001b[0m\u001b[1;33m(\u001b[0m\u001b[1;33m[\u001b[0m\u001b[0mnp\u001b[0m\u001b[1;33m.\u001b[0m\u001b[0mexp\u001b[0m\u001b[1;33m(\u001b[0m\u001b[1;33m-\u001b[0m\u001b[0mself\u001b[0m\u001b[1;33m.\u001b[0m\u001b[0mbeta\u001b[0m \u001b[1;33m*\u001b[0m \u001b[0mnp\u001b[0m\u001b[1;33m.\u001b[0m\u001b[0mabs\u001b[0m\u001b[1;33m(\u001b[0m\u001b[0mDecimal\u001b[0m\u001b[1;33m(\u001b[0m\u001b[1;34m'1.0'\u001b[0m\u001b[1;33m)\u001b[0m \u001b[1;33m-\u001b[0m \u001b[0mDecimal\u001b[0m\u001b[1;33m(\u001b[0m\u001b[1;36m0.0\u001b[0m\u001b[1;33m)\u001b[0m\u001b[1;33m)\u001b[0m\u001b[1;33m)\u001b[0m\u001b[1;33m,\u001b[0m \u001b[0mnp\u001b[0m\u001b[1;33m.\u001b[0m\u001b[0mexp\u001b[0m\u001b[1;33m(\u001b[0m\u001b[1;33m-\u001b[0m\u001b[0mself\u001b[0m\u001b[1;33m.\u001b[0m\u001b[0mbeta\u001b[0m \u001b[1;33m*\u001b[0m \u001b[0mnp\u001b[0m\u001b[1;33m.\u001b[0m\u001b[0mabs\u001b[0m\u001b[1;33m(\u001b[0m\u001b[0mDecimal\u001b[0m\u001b[1;33m(\u001b[0m\u001b[1;34m'1.0'\u001b[0m\u001b[1;33m)\u001b[0m \u001b[1;33m-\u001b[0m \u001b[0mDecimal\u001b[0m\u001b[1;33m(\u001b[0m\u001b[1;34m'1.0'\u001b[0m\u001b[1;33m)\u001b[0m\u001b[1;33m)\u001b[0m\u001b[1;33m)\u001b[0m\u001b[1;33m]\u001b[0m\u001b[1;33m)\u001b[0m\u001b[1;33m\u001b[0m\u001b[0m\n\u001b[0;32m     50\u001b[0m \u001b[1;33m\u001b[0m\u001b[0m\n",
      "\u001b[1;31mKeyboardInterrupt\u001b[0m: "
     ]
    }
   ],
   "source": [
    "with multiprocessing.dummy.Pool(multiprocessing.cpu_count()) as p:\n",
    "    p.map(NoiseReduction())"
   ]
  },
  {
   "cell_type": "code",
   "execution_count": null,
   "metadata": {},
   "outputs": [],
   "source": [
    "#α，β，Differenceを表にまとめる\n",
    "print(\"α\"+ str(x))\n",
    "print(\"β\"+ str(y))\n",
    "print(\"Difference\"+ str(z))\n",
    "nr = pd.DataFrame(z,index=x,columns=y)\n",
    "#nr = nr.rename(columns={1.0: 'β=1.0'}, index={1.0: 'α=1.0'})\n",
    "print(nr)\n"
   ]
  },
  {
   "cell_type": "code",
   "execution_count": null,
   "metadata": {},
   "outputs": [],
   "source": [
    "%matplotlib inline\n",
    "plt.figure(figsize=(12, 8)) \n",
    "sns.heatmap(nr, cmap='Blues', annot=True, square=True, fmt=\"1.3f\")"
   ]
  },
  {
   "cell_type": "code",
   "execution_count": null,
   "metadata": {},
   "outputs": [],
   "source": [
    "#最小のDifference値\n",
    "min_dif = min(zz)\n",
    "\n",
    "#上記の値のindex\n",
    "min_dif_index = zz.index(min_dif)\n",
    "\n",
    "#上記のDifference値の時のα及びβ\n",
    "x_value = xx[min_dif_index]\n",
    "y_value = yy[min_dif_index]\n",
    "\n",
    "print(\"Best noise reduction\")\n",
    "print(\"α= \"+ str(x_value),\"β= \"+ str(y_value),\"Difference: \"+ str(min_dif))\n"
   ]
  },
  {
   "cell_type": "code",
   "execution_count": null,
   "metadata": {},
   "outputs": [],
   "source": []
  },
  {
   "cell_type": "code",
   "execution_count": null,
   "metadata": {},
   "outputs": [],
   "source": []
  }
 ],
 "metadata": {
  "kernelspec": {
   "display_name": "Python 3",
   "language": "python",
   "name": "python3"
  },
  "language_info": {
   "codemirror_mode": {
    "name": "ipython",
    "version": 3
   },
   "file_extension": ".py",
   "mimetype": "text/x-python",
   "name": "python",
   "nbconvert_exporter": "python",
   "pygments_lexer": "ipython3",
   "version": "3.6.6"
  }
 },
 "nbformat": 4,
 "nbformat_minor": 2
}
