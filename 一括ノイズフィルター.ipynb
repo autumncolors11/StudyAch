{
 "cells": [
  {
   "cell_type": "code",
   "execution_count": 2,
   "metadata": {},
   "outputs": [],
   "source": [
    "file_path = \"\"\n",
    "\n",
    "import os\n",
    "os.getcwd()\n",
    "os.chdir(file_path)\n",
    "\n",
    "import cv2\n",
    "import numpy as np\n",
    "\n",
    "knumber = 15\n",
    "\n",
    "file_list = os.listdir(file_path)\n",
    "    \n",
    "for file_name in file_list:\n",
    "    title, ext = os.path.splitext(file_name)\n",
    "    if ext == '.tif':\n",
    "        \n",
    "        # 入力画像をグレースケールで読み込み\n",
    "        gray = cv2.imread(file_name, 0)\n",
    "\n",
    "        # 方法2       \n",
    "        ###\n",
    "        dst2 = cv2.GaussianBlur(gray,(knumber,knumber),0)\n",
    "        \n",
    "        \n",
    "\n",
    "        # 結果を出力\n",
    "        cv2.imwrite(file_path + \"\\\\bkg\\\\\" +file_name, dst2)"
   ]
  },
  {
   "cell_type": "code",
   "execution_count": null,
   "metadata": {},
   "outputs": [],
   "source": [
    "###メディアン\n",
    "dst2 = cv2.medianBlur(gray, ksize=knumber)\n",
    "\n",
    "###ガウシアン\n",
    "dst2 = cv2.GaussianBlur(gray,(knumber,knumber),0)"
   ]
  },
  {
   "cell_type": "code",
   "execution_count": null,
   "metadata": {},
   "outputs": [],
   "source": [
    "C:\\\\Users\\\\euphr\\\\Documents\\\\Study\\\\NdFeB\\\\Kerr201810\\\\temp250rein\\\\x100\\\\tif\\\\dub"
   ]
  }
 ],
 "metadata": {
  "kernelspec": {
   "display_name": "Python 3",
   "language": "python",
   "name": "python3"
  },
  "language_info": {
   "codemirror_mode": {
    "name": "ipython",
    "version": 3
   },
   "file_extension": ".py",
   "mimetype": "text/x-python",
   "name": "python",
   "nbconvert_exporter": "python",
   "pygments_lexer": "ipython3",
   "version": "3.6.6"
  }
 },
 "nbformat": 4,
 "nbformat_minor": 2
}
